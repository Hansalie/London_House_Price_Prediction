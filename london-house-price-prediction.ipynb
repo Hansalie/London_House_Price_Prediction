{
 "cells": [
  {
   "cell_type": "markdown",
   "metadata": {},
   "source": [
    "# London House Price Prediction\n",
    "\n",
    "This notebook builds a machine learning model to predict house prices in London.\n",
    "\n",
    "The approach includes:\n",
    "\n",
    "- Comprehensive data preprocessing and missing value handling\n",
    "- Feature engineering including property characteristics and location data\n",
    "- Feature scaling using robust methods\n",
    "- Linear Regression modeling\n",
    "- Performance evaluation using multiple metrics (MSE, R²)\n",
    "- Train-validation split to verify model performance"
   ]
  },
  {
   "cell_type": "code",
   "execution_count": null,
   "metadata": {
    "_cell_guid": "b1076dfc-b9ad-4769-8c92-a6c4dae69d19",
    "_uuid": "8f2839f25d086af736a60e9eeb907d3b93b6e0e5",
    "execution": {
     "iopub.execute_input": "2025-04-24T20:34:19.751020Z",
     "iopub.status.busy": "2025-04-24T20:34:19.750684Z",
     "iopub.status.idle": "2025-04-24T20:34:19.758387Z",
     "shell.execute_reply": "2025-04-24T20:34:19.757402Z",
     "shell.execute_reply.started": "2025-04-24T20:34:19.750999Z"
    },
    "trusted": true
   },
   "outputs": [
    {
     "name": "stdout",
     "output_type": "stream",
     "text": [
      "/kaggle/input/london-house-price-prediction-advanced-techniques/sample_submission.csv\n",
      "/kaggle/input/london-house-price-prediction-advanced-techniques/train.csv\n",
      "/kaggle/input/london-house-price-prediction-advanced-techniques/test.csv\n"
     ]
    }
   ],
   "source": [
    "# This Python 3 environment comes with many helpful analytics libraries installed\n",
    "# It is defined by the kaggle/python Docker image: https://github.com/kaggle/docker-python\n",
    "# For example, here's several helpful packages to load\n",
    "\n",
    "import numpy as np # linear algebra\n",
    "import pandas as pd # data processing, CSV file I/O (e.g. pd.read_csv)\n",
    "\n",
    "# Input data files are available in the read-only \"../input/\" directory\n",
    "# For example, running this (by clicking run or pressing Shift+Enter) will list all files under the input directory\n",
    "\n",
    "import os\n",
    "for dirname, _, filenames in os.walk('/kaggle/input'):\n",
    "    for filename in filenames:\n",
    "        print(os.path.join(dirname, filename))\n",
    "\n",
    "# You can write up to 20GB to the current directory (/kaggle/working/) that gets preserved as output when you create a version using \"Save & Run All\" \n",
    "# You can also write temporary files to /kaggle/temp/, but they won't be saved outside of the current session"
   ]
  },
  {
   "cell_type": "code",
   "execution_count": null,
   "metadata": {
    "execution": {
     "iopub.execute_input": "2025-04-24T20:34:19.760453Z",
     "iopub.status.busy": "2025-04-24T20:34:19.760079Z",
     "iopub.status.idle": "2025-04-24T20:34:20.807081Z",
     "shell.execute_reply": "2025-04-24T20:34:20.805749Z",
     "shell.execute_reply.started": "2025-04-24T20:34:19.760420Z"
    },
    "trusted": true
   },
   "outputs": [],
   "source": [
    "# Load data\n",
    "train_data=pd.read_csv(\"/kaggle/input/london-house-price-prediction-advanced-techniques/train.csv\")\n",
    "test_data=pd.read_csv(\"/kaggle/input/london-house-price-prediction-advanced-techniques/test.csv\")"
   ]
  },
  {
   "cell_type": "code",
   "execution_count": null,
   "metadata": {
    "execution": {
     "iopub.execute_input": "2025-04-24T20:34:20.808962Z",
     "iopub.status.busy": "2025-04-24T20:34:20.808465Z",
     "iopub.status.idle": "2025-04-24T20:34:20.926995Z",
     "shell.execute_reply": "2025-04-24T20:34:20.925993Z",
     "shell.execute_reply.started": "2025-04-24T20:34:20.808930Z"
    },
    "trusted": true
   },
   "outputs": [
    {
     "name": "stdout",
     "output_type": "stream",
     "text": [
      "<class 'pandas.core.frame.DataFrame'>\n",
      "RangeIndex: 266325 entries, 0 to 266324\n",
      "Data columns (total 17 columns):\n",
      " #   Column               Non-Null Count   Dtype  \n",
      "---  ------               --------------   -----  \n",
      " 0   ID                   266325 non-null  int64  \n",
      " 1   fullAddress          266325 non-null  object \n",
      " 2   postcode             266325 non-null  object \n",
      " 3   country              266325 non-null  object \n",
      " 4   outcode              266325 non-null  object \n",
      " 5   latitude             266325 non-null  float64\n",
      " 6   longitude            266325 non-null  float64\n",
      " 7   bathrooms            217846 non-null  float64\n",
      " 8   bedrooms             241482 non-null  float64\n",
      " 9   floorAreaSqM         252519 non-null  float64\n",
      " 10  livingRooms          229285 non-null  float64\n",
      " 11  tenure               260604 non-null  object \n",
      " 12  propertyType         265817 non-null  object \n",
      " 13  currentEnergyRating  209511 non-null  object \n",
      " 14  sale_month           266325 non-null  int64  \n",
      " 15  sale_year            266325 non-null  int64  \n",
      " 16  price                266325 non-null  int64  \n",
      "dtypes: float64(6), int64(4), object(7)\n",
      "memory usage: 34.5+ MB\n"
     ]
    }
   ],
   "source": [
    "# Display info about training data\n",
    "train_data.info()"
   ]
  },
  {
   "cell_type": "code",
   "execution_count": null,
   "metadata": {
    "execution": {
     "iopub.execute_input": "2025-04-24T20:34:20.929141Z",
     "iopub.status.busy": "2025-04-24T20:34:20.928843Z",
     "iopub.status.idle": "2025-04-24T20:34:20.946312Z",
     "shell.execute_reply": "2025-04-24T20:34:20.945419Z",
     "shell.execute_reply.started": "2025-04-24T20:34:20.929114Z"
    },
    "trusted": true
   },
   "outputs": [
    {
     "name": "stderr",
     "output_type": "stream",
     "text": [
      "/usr/local/lib/python3.11/dist-packages/pandas/io/formats/format.py:1458: RuntimeWarning: invalid value encountered in greater\n",
      "  has_large_values = (abs_vals > 1e6).any()\n",
      "/usr/local/lib/python3.11/dist-packages/pandas/io/formats/format.py:1459: RuntimeWarning: invalid value encountered in less\n",
      "  has_small_values = ((abs_vals < 10 ** (-self.digits)) & (abs_vals > 0)).any()\n",
      "/usr/local/lib/python3.11/dist-packages/pandas/io/formats/format.py:1459: RuntimeWarning: invalid value encountered in greater\n",
      "  has_small_values = ((abs_vals < 10 ** (-self.digits)) & (abs_vals > 0)).any()\n"
     ]
    },
    {
     "data": {
      "text/html": [
       "<div>\n",
       "<style scoped>\n",
       "    .dataframe tbody tr th:only-of-type {\n",
       "        vertical-align: middle;\n",
       "    }\n",
       "\n",
       "    .dataframe tbody tr th {\n",
       "        vertical-align: top;\n",
       "    }\n",
       "\n",
       "    .dataframe thead th {\n",
       "        text-align: right;\n",
       "    }\n",
       "</style>\n",
       "<table border=\"1\" class=\"dataframe\">\n",
       "  <thead>\n",
       "    <tr style=\"text-align: right;\">\n",
       "      <th></th>\n",
       "      <th>ID</th>\n",
       "      <th>fullAddress</th>\n",
       "      <th>postcode</th>\n",
       "      <th>country</th>\n",
       "      <th>outcode</th>\n",
       "      <th>latitude</th>\n",
       "      <th>longitude</th>\n",
       "      <th>bathrooms</th>\n",
       "      <th>bedrooms</th>\n",
       "      <th>floorAreaSqM</th>\n",
       "      <th>livingRooms</th>\n",
       "      <th>tenure</th>\n",
       "      <th>propertyType</th>\n",
       "      <th>currentEnergyRating</th>\n",
       "      <th>sale_month</th>\n",
       "      <th>sale_year</th>\n",
       "      <th>price</th>\n",
       "    </tr>\n",
       "  </thead>\n",
       "  <tbody>\n",
       "    <tr>\n",
       "      <th>0</th>\n",
       "      <td>0</td>\n",
       "      <td>38 Adelina Grove, London, E1 3AD</td>\n",
       "      <td>E1 3AD</td>\n",
       "      <td>England</td>\n",
       "      <td>E1</td>\n",
       "      <td>51.519406</td>\n",
       "      <td>-0.053261</td>\n",
       "      <td>NaN</td>\n",
       "      <td>3.0</td>\n",
       "      <td>80.0</td>\n",
       "      <td>1.0</td>\n",
       "      <td>Freehold</td>\n",
       "      <td>Semi-Detached House</td>\n",
       "      <td>C</td>\n",
       "      <td>1</td>\n",
       "      <td>1995</td>\n",
       "      <td>77000</td>\n",
       "    </tr>\n",
       "    <tr>\n",
       "      <th>1</th>\n",
       "      <td>1</td>\n",
       "      <td>6 Cleveland Grove, London, E1 4XL</td>\n",
       "      <td>E1 4XL</td>\n",
       "      <td>England</td>\n",
       "      <td>E1</td>\n",
       "      <td>51.521261</td>\n",
       "      <td>-0.053384</td>\n",
       "      <td>2.0</td>\n",
       "      <td>4.0</td>\n",
       "      <td>110.0</td>\n",
       "      <td>1.0</td>\n",
       "      <td>Leasehold</td>\n",
       "      <td>Terrace Property</td>\n",
       "      <td>D</td>\n",
       "      <td>1</td>\n",
       "      <td>1995</td>\n",
       "      <td>89995</td>\n",
       "    </tr>\n",
       "    <tr>\n",
       "      <th>2</th>\n",
       "      <td>2</td>\n",
       "      <td>65 Sanderstead Road, London, E10 7PW</td>\n",
       "      <td>E10 7PW</td>\n",
       "      <td>England</td>\n",
       "      <td>E10</td>\n",
       "      <td>51.569054</td>\n",
       "      <td>-0.034892</td>\n",
       "      <td>1.0</td>\n",
       "      <td>3.0</td>\n",
       "      <td>84.0</td>\n",
       "      <td>1.0</td>\n",
       "      <td>Freehold</td>\n",
       "      <td>Terrace Property</td>\n",
       "      <td>D</td>\n",
       "      <td>1</td>\n",
       "      <td>1995</td>\n",
       "      <td>59000</td>\n",
       "    </tr>\n",
       "    <tr>\n",
       "      <th>3</th>\n",
       "      <td>3</td>\n",
       "      <td>5 Queenswood Gardens, London, E11 3SE</td>\n",
       "      <td>E11 3SE</td>\n",
       "      <td>England</td>\n",
       "      <td>E11</td>\n",
       "      <td>51.564212</td>\n",
       "      <td>0.026292</td>\n",
       "      <td>NaN</td>\n",
       "      <td>2.0</td>\n",
       "      <td>72.0</td>\n",
       "      <td>1.0</td>\n",
       "      <td>Leasehold</td>\n",
       "      <td>Purpose Built Flat</td>\n",
       "      <td>NaN</td>\n",
       "      <td>1</td>\n",
       "      <td>1995</td>\n",
       "      <td>51500</td>\n",
       "    </tr>\n",
       "    <tr>\n",
       "      <th>4</th>\n",
       "      <td>4</td>\n",
       "      <td>12 Woodlands Road, London, E11 4RW</td>\n",
       "      <td>E11 4RW</td>\n",
       "      <td>England</td>\n",
       "      <td>E11</td>\n",
       "      <td>51.563430</td>\n",
       "      <td>0.006260</td>\n",
       "      <td>1.0</td>\n",
       "      <td>3.0</td>\n",
       "      <td>104.0</td>\n",
       "      <td>1.0</td>\n",
       "      <td>Freehold</td>\n",
       "      <td>Mid Terrace House</td>\n",
       "      <td>D</td>\n",
       "      <td>1</td>\n",
       "      <td>1995</td>\n",
       "      <td>63500</td>\n",
       "    </tr>\n",
       "  </tbody>\n",
       "</table>\n",
       "</div>"
      ],
      "text/plain": [
       "   ID                            fullAddress postcode  country outcode  \\\n",
       "0   0       38 Adelina Grove, London, E1 3AD   E1 3AD  England      E1   \n",
       "1   1      6 Cleveland Grove, London, E1 4XL   E1 4XL  England      E1   \n",
       "2   2   65 Sanderstead Road, London, E10 7PW  E10 7PW  England     E10   \n",
       "3   3  5 Queenswood Gardens, London, E11 3SE  E11 3SE  England     E11   \n",
       "4   4     12 Woodlands Road, London, E11 4RW  E11 4RW  England     E11   \n",
       "\n",
       "    latitude  longitude  bathrooms  bedrooms  floorAreaSqM  livingRooms  \\\n",
       "0  51.519406  -0.053261        NaN       3.0          80.0          1.0   \n",
       "1  51.521261  -0.053384        2.0       4.0         110.0          1.0   \n",
       "2  51.569054  -0.034892        1.0       3.0          84.0          1.0   \n",
       "3  51.564212   0.026292        NaN       2.0          72.0          1.0   \n",
       "4  51.563430   0.006260        1.0       3.0         104.0          1.0   \n",
       "\n",
       "      tenure         propertyType currentEnergyRating  sale_month  sale_year  \\\n",
       "0   Freehold  Semi-Detached House                   C           1       1995   \n",
       "1  Leasehold     Terrace Property                   D           1       1995   \n",
       "2   Freehold     Terrace Property                   D           1       1995   \n",
       "3  Leasehold   Purpose Built Flat                 NaN           1       1995   \n",
       "4   Freehold    Mid Terrace House                   D           1       1995   \n",
       "\n",
       "   price  \n",
       "0  77000  \n",
       "1  89995  \n",
       "2  59000  \n",
       "3  51500  \n",
       "4  63500  "
      ]
     },
     "execution_count": 143,
     "metadata": {},
     "output_type": "execute_result"
    }
   ],
   "source": [
    "# Display first few rows of data \n",
    "train_data.head()"
   ]
  },
  {
   "cell_type": "code",
   "execution_count": null,
   "metadata": {
    "execution": {
     "iopub.execute_input": "2025-04-24T20:34:20.947500Z",
     "iopub.status.busy": "2025-04-24T20:34:20.947225Z",
     "iopub.status.idle": "2025-04-24T20:34:20.981284Z",
     "shell.execute_reply": "2025-04-24T20:34:20.980409Z",
     "shell.execute_reply.started": "2025-04-24T20:34:20.947478Z"
    },
    "trusted": true
   },
   "outputs": [
    {
     "data": {
      "text/plain": [
       "array(['England'], dtype=object)"
      ]
     },
     "execution_count": 144,
     "metadata": {},
     "output_type": "execute_result"
    }
   ],
   "source": [
    "# Check unique values in country column\n",
    "train_data[\"country\"].unique()"
   ]
  },
  {
   "cell_type": "markdown",
   "metadata": {},
   "source": [
    "# Data Preprocessing"
   ]
  },
  {
   "cell_type": "code",
   "execution_count": null,
   "metadata": {
    "execution": {
     "iopub.execute_input": "2025-04-24T20:34:20.983313Z",
     "iopub.status.busy": "2025-04-24T20:34:20.982324Z",
     "iopub.status.idle": "2025-04-24T20:34:21.002808Z",
     "shell.execute_reply": "2025-04-24T20:34:21.001171Z",
     "shell.execute_reply.started": "2025-04-24T20:34:20.983280Z"
    },
    "trusted": true
   },
   "outputs": [],
   "source": [
    "# Remove unnecessary columns that won't help with prediction\n",
    "# Address information is redundant when we have latitude/longitude and outcode\n",
    "train_data.drop([\"fullAddress\", \"postcode\",\"country\"], axis=1, inplace=True)\n",
    "test_data.drop([\"fullAddress\", \"postcode\", \"country\"], axis=1, inplace=True)"
   ]
  },
  {
   "cell_type": "code",
   "execution_count": null,
   "metadata": {
    "execution": {
     "iopub.execute_input": "2025-04-24T20:34:21.004217Z",
     "iopub.status.busy": "2025-04-24T20:34:21.003892Z",
     "iopub.status.idle": "2025-04-24T20:34:21.141672Z",
     "shell.execute_reply": "2025-04-24T20:34:21.140800Z",
     "shell.execute_reply.started": "2025-04-24T20:34:21.004195Z"
    },
    "trusted": true
   },
   "outputs": [
    {
     "data": {
      "text/html": [
       "<div>\n",
       "<style scoped>\n",
       "    .dataframe tbody tr th:only-of-type {\n",
       "        vertical-align: middle;\n",
       "    }\n",
       "\n",
       "    .dataframe tbody tr th {\n",
       "        vertical-align: top;\n",
       "    }\n",
       "\n",
       "    .dataframe thead th {\n",
       "        text-align: right;\n",
       "    }\n",
       "</style>\n",
       "<table border=\"1\" class=\"dataframe\">\n",
       "  <thead>\n",
       "    <tr style=\"text-align: right;\">\n",
       "      <th></th>\n",
       "      <th>ID</th>\n",
       "      <th>latitude</th>\n",
       "      <th>longitude</th>\n",
       "      <th>bathrooms</th>\n",
       "      <th>bedrooms</th>\n",
       "      <th>floorAreaSqM</th>\n",
       "      <th>livingRooms</th>\n",
       "      <th>sale_month</th>\n",
       "      <th>sale_year</th>\n",
       "      <th>price</th>\n",
       "    </tr>\n",
       "  </thead>\n",
       "  <tbody>\n",
       "    <tr>\n",
       "      <th>count</th>\n",
       "      <td>266325.000000</td>\n",
       "      <td>266325.000000</td>\n",
       "      <td>266325.000000</td>\n",
       "      <td>217846.000000</td>\n",
       "      <td>241482.000000</td>\n",
       "      <td>252519.000000</td>\n",
       "      <td>229285.000000</td>\n",
       "      <td>266325.000000</td>\n",
       "      <td>266325.000000</td>\n",
       "      <td>2.663250e+05</td>\n",
       "    </tr>\n",
       "    <tr>\n",
       "      <th>mean</th>\n",
       "      <td>133162.000000</td>\n",
       "      <td>51.510090</td>\n",
       "      <td>-0.104639</td>\n",
       "      <td>1.439471</td>\n",
       "      <td>2.496140</td>\n",
       "      <td>99.624088</td>\n",
       "      <td>1.292160</td>\n",
       "      <td>6.805670</td>\n",
       "      <td>2012.213855</td>\n",
       "      <td>6.161788e+05</td>\n",
       "    </tr>\n",
       "    <tr>\n",
       "      <th>std</th>\n",
       "      <td>76881.549558</td>\n",
       "      <td>0.056709</td>\n",
       "      <td>0.088074</td>\n",
       "      <td>0.721365</td>\n",
       "      <td>1.172209</td>\n",
       "      <td>56.454683</td>\n",
       "      <td>0.583029</td>\n",
       "      <td>3.356693</td>\n",
       "      <td>9.143113</td>\n",
       "      <td>1.274105e+06</td>\n",
       "    </tr>\n",
       "    <tr>\n",
       "      <th>min</th>\n",
       "      <td>0.000000</td>\n",
       "      <td>51.385708</td>\n",
       "      <td>-0.347055</td>\n",
       "      <td>1.000000</td>\n",
       "      <td>1.000000</td>\n",
       "      <td>10.000000</td>\n",
       "      <td>1.000000</td>\n",
       "      <td>1.000000</td>\n",
       "      <td>1995.000000</td>\n",
       "      <td>1.000000e+04</td>\n",
       "    </tr>\n",
       "    <tr>\n",
       "      <th>25%</th>\n",
       "      <td>66581.000000</td>\n",
       "      <td>51.466685</td>\n",
       "      <td>-0.159167</td>\n",
       "      <td>1.000000</td>\n",
       "      <td>2.000000</td>\n",
       "      <td>63.000000</td>\n",
       "      <td>1.000000</td>\n",
       "      <td>4.000000</td>\n",
       "      <td>2004.000000</td>\n",
       "      <td>2.165000e+05</td>\n",
       "    </tr>\n",
       "    <tr>\n",
       "      <th>50%</th>\n",
       "      <td>133162.000000</td>\n",
       "      <td>51.507202</td>\n",
       "      <td>-0.108622</td>\n",
       "      <td>1.000000</td>\n",
       "      <td>2.000000</td>\n",
       "      <td>85.000000</td>\n",
       "      <td>1.000000</td>\n",
       "      <td>7.000000</td>\n",
       "      <td>2014.000000</td>\n",
       "      <td>3.850000e+05</td>\n",
       "    </tr>\n",
       "    <tr>\n",
       "      <th>75%</th>\n",
       "      <td>199743.000000</td>\n",
       "      <td>51.550937</td>\n",
       "      <td>-0.049202</td>\n",
       "      <td>2.000000</td>\n",
       "      <td>3.000000</td>\n",
       "      <td>118.000000</td>\n",
       "      <td>1.000000</td>\n",
       "      <td>10.000000</td>\n",
       "      <td>2021.000000</td>\n",
       "      <td>6.500000e+05</td>\n",
       "    </tr>\n",
       "    <tr>\n",
       "      <th>max</th>\n",
       "      <td>266324.000000</td>\n",
       "      <td>51.665823</td>\n",
       "      <td>0.139249</td>\n",
       "      <td>9.000000</td>\n",
       "      <td>9.000000</td>\n",
       "      <td>500.000000</td>\n",
       "      <td>9.000000</td>\n",
       "      <td>12.000000</td>\n",
       "      <td>2023.000000</td>\n",
       "      <td>1.000000e+08</td>\n",
       "    </tr>\n",
       "  </tbody>\n",
       "</table>\n",
       "</div>"
      ],
      "text/plain": [
       "                  ID       latitude      longitude      bathrooms  \\\n",
       "count  266325.000000  266325.000000  266325.000000  217846.000000   \n",
       "mean   133162.000000      51.510090      -0.104639       1.439471   \n",
       "std     76881.549558       0.056709       0.088074       0.721365   \n",
       "min         0.000000      51.385708      -0.347055       1.000000   \n",
       "25%     66581.000000      51.466685      -0.159167       1.000000   \n",
       "50%    133162.000000      51.507202      -0.108622       1.000000   \n",
       "75%    199743.000000      51.550937      -0.049202       2.000000   \n",
       "max    266324.000000      51.665823       0.139249       9.000000   \n",
       "\n",
       "            bedrooms   floorAreaSqM    livingRooms     sale_month  \\\n",
       "count  241482.000000  252519.000000  229285.000000  266325.000000   \n",
       "mean        2.496140      99.624088       1.292160       6.805670   \n",
       "std         1.172209      56.454683       0.583029       3.356693   \n",
       "min         1.000000      10.000000       1.000000       1.000000   \n",
       "25%         2.000000      63.000000       1.000000       4.000000   \n",
       "50%         2.000000      85.000000       1.000000       7.000000   \n",
       "75%         3.000000     118.000000       1.000000      10.000000   \n",
       "max         9.000000     500.000000       9.000000      12.000000   \n",
       "\n",
       "           sale_year         price  \n",
       "count  266325.000000  2.663250e+05  \n",
       "mean     2012.213855  6.161788e+05  \n",
       "std         9.143113  1.274105e+06  \n",
       "min      1995.000000  1.000000e+04  \n",
       "25%      2004.000000  2.165000e+05  \n",
       "50%      2014.000000  3.850000e+05  \n",
       "75%      2021.000000  6.500000e+05  \n",
       "max      2023.000000  1.000000e+08  "
      ]
     },
     "execution_count": 146,
     "metadata": {},
     "output_type": "execute_result"
    }
   ],
   "source": [
    "# Get statistical summary of the data\n",
    "train_data.describe()"
   ]
  },
  {
   "cell_type": "code",
   "execution_count": null,
   "metadata": {
    "execution": {
     "iopub.execute_input": "2025-04-24T20:34:21.142813Z",
     "iopub.status.busy": "2025-04-24T20:34:21.142584Z",
     "iopub.status.idle": "2025-04-24T20:34:21.216487Z",
     "shell.execute_reply": "2025-04-24T20:34:21.215412Z",
     "shell.execute_reply.started": "2025-04-24T20:34:21.142790Z"
    },
    "trusted": true
   },
   "outputs": [
    {
     "name": "stdout",
     "output_type": "stream",
     "text": [
      "<class 'pandas.core.frame.DataFrame'>\n",
      "RangeIndex: 266325 entries, 0 to 266324\n",
      "Data columns (total 14 columns):\n",
      " #   Column               Non-Null Count   Dtype  \n",
      "---  ------               --------------   -----  \n",
      " 0   ID                   266325 non-null  int64  \n",
      " 1   outcode              266325 non-null  object \n",
      " 2   latitude             266325 non-null  float64\n",
      " 3   longitude            266325 non-null  float64\n",
      " 4   bathrooms            217846 non-null  float64\n",
      " 5   bedrooms             241482 non-null  float64\n",
      " 6   floorAreaSqM         252519 non-null  float64\n",
      " 7   livingRooms          229285 non-null  float64\n",
      " 8   tenure               260604 non-null  object \n",
      " 9   propertyType         265817 non-null  object \n",
      " 10  currentEnergyRating  209511 non-null  object \n",
      " 11  sale_month           266325 non-null  int64  \n",
      " 12  sale_year            266325 non-null  int64  \n",
      " 13  price                266325 non-null  int64  \n",
      "dtypes: float64(6), int64(4), object(4)\n",
      "memory usage: 28.4+ MB\n"
     ]
    }
   ],
   "source": [
    "train_data.info()"
   ]
  },
  {
   "cell_type": "code",
   "execution_count": null,
   "metadata": {
    "execution": {
     "iopub.execute_input": "2025-04-24T20:34:21.217482Z",
     "iopub.status.busy": "2025-04-24T20:34:21.217219Z",
     "iopub.status.idle": "2025-04-24T20:34:21.290526Z",
     "shell.execute_reply": "2025-04-24T20:34:21.289188Z",
     "shell.execute_reply.started": "2025-04-24T20:34:21.217463Z"
    },
    "trusted": true
   },
   "outputs": [
    {
     "data": {
      "text/plain": [
       "ID                      0.000000\n",
       "outcode                 0.000000\n",
       "latitude                0.000000\n",
       "longitude               0.000000\n",
       "bathrooms              18.202948\n",
       "bedrooms                9.328077\n",
       "floorAreaSqM            5.183892\n",
       "livingRooms            13.907819\n",
       "tenure                  2.148127\n",
       "propertyType            0.190744\n",
       "currentEnergyRating    21.332582\n",
       "sale_month              0.000000\n",
       "sale_year               0.000000\n",
       "price                   0.000000\n",
       "dtype: float64"
      ]
     },
     "execution_count": 148,
     "metadata": {},
     "output_type": "execute_result"
    }
   ],
   "source": [
    "# Check for missing values\n",
    "train_data.isna().sum()/len(train_data)*100"
   ]
  },
  {
   "cell_type": "code",
   "execution_count": null,
   "metadata": {
    "execution": {
     "iopub.execute_input": "2025-04-24T20:34:21.294135Z",
     "iopub.status.busy": "2025-04-24T20:34:21.293835Z",
     "iopub.status.idle": "2025-04-24T20:34:21.346438Z",
     "shell.execute_reply": "2025-04-24T20:34:21.345553Z",
     "shell.execute_reply.started": "2025-04-24T20:34:21.294114Z"
    },
    "trusted": true
   },
   "outputs": [],
   "source": [
    "# Remove rows with missing values in critical columns\n",
    "# These columns have minimal missing values and are important for prediction\n",
    "train_data.dropna(subset=[\"floorAreaSqM\",\"tenure\", \"propertyType\"], inplace=True)"
   ]
  },
  {
   "cell_type": "markdown",
   "metadata": {},
   "source": [
    "# Missing Value Imputation"
   ]
  },
  {
   "cell_type": "code",
   "execution_count": null,
   "metadata": {
    "execution": {
     "iopub.execute_input": "2025-04-24T20:34:21.347625Z",
     "iopub.status.busy": "2025-04-24T20:34:21.347296Z",
     "iopub.status.idle": "2025-04-24T20:34:21.357513Z",
     "shell.execute_reply": "2025-04-24T20:34:21.356569Z",
     "shell.execute_reply.started": "2025-04-24T20:34:21.347598Z"
    },
    "trusted": true
   },
   "outputs": [
    {
     "name": "stdout",
     "output_type": "stream",
     "text": [
      "Skewness of bathrooms: 2.066406536673363\n"
     ]
    }
   ],
   "source": [
    "# Check skewness to decide imputation strategy\n",
    "print(\"Skewness of bathrooms:\", train_data[\"bathrooms\"].skew())"
   ]
  },
  {
   "cell_type": "code",
   "execution_count": null,
   "metadata": {
    "execution": {
     "iopub.execute_input": "2025-04-24T20:34:21.359303Z",
     "iopub.status.busy": "2025-04-24T20:34:21.358745Z",
     "iopub.status.idle": "2025-04-24T20:34:21.379168Z",
     "shell.execute_reply": "2025-04-24T20:34:21.378180Z",
     "shell.execute_reply.started": "2025-04-24T20:34:21.359273Z"
    },
    "trusted": true
   },
   "outputs": [],
   "source": [
    "# High skew, use median for imputation\n",
    "train_data[\"bathrooms\"]=train_data[\"bathrooms\"].fillna(train_data[\"bathrooms\"].median())\n",
    "test_data[\"bathrooms\"]=test_data[\"bathrooms\"].fillna(test_data[\"bathrooms\"].median())"
   ]
  },
  {
   "cell_type": "code",
   "execution_count": null,
   "metadata": {
    "execution": {
     "iopub.execute_input": "2025-04-24T20:34:21.380861Z",
     "iopub.status.busy": "2025-04-24T20:34:21.380495Z",
     "iopub.status.idle": "2025-04-24T20:34:21.392400Z",
     "shell.execute_reply": "2025-04-24T20:34:21.391402Z",
     "shell.execute_reply.started": "2025-04-24T20:34:21.380832Z"
    },
    "trusted": true
   },
   "outputs": [
    {
     "name": "stdout",
     "output_type": "stream",
     "text": [
      "Skewness of bedrooms: 0.8206355526737832\n"
     ]
    }
   ],
   "source": [
    "print(\"Skewness of bedrooms:\", train_data[\"bedrooms\"].skew())"
   ]
  },
  {
   "cell_type": "code",
   "execution_count": null,
   "metadata": {
    "execution": {
     "iopub.execute_input": "2025-04-24T20:34:21.393522Z",
     "iopub.status.busy": "2025-04-24T20:34:21.393257Z",
     "iopub.status.idle": "2025-04-24T20:34:21.413208Z",
     "shell.execute_reply": "2025-04-24T20:34:21.412217Z",
     "shell.execute_reply.started": "2025-04-24T20:34:21.393502Z"
    },
    "trusted": true
   },
   "outputs": [],
   "source": [
    "# Lower skew, use mean for imputation\n",
    "train_data[\"bedrooms\"]=train_data[\"bedrooms\"].fillna(train_data[\"bedrooms\"].mean())\n",
    "test_data[\"bedrooms\"]=test_data[\"bedrooms\"].fillna(test_data[\"bedrooms\"].mean())"
   ]
  },
  {
   "cell_type": "code",
   "execution_count": null,
   "metadata": {
    "execution": {
     "iopub.execute_input": "2025-04-24T20:34:21.414623Z",
     "iopub.status.busy": "2025-04-24T20:34:21.414283Z",
     "iopub.status.idle": "2025-04-24T20:34:21.424841Z",
     "shell.execute_reply": "2025-04-24T20:34:21.423868Z",
     "shell.execute_reply.started": "2025-04-24T20:34:21.414596Z"
    },
    "trusted": true
   },
   "outputs": [
    {
     "name": "stdout",
     "output_type": "stream",
     "text": [
      "Skewness of livingRooms: 2.302519517371181\n"
     ]
    }
   ],
   "source": [
    "print(\"Skewness of livingRooms:\", train_data[\"livingRooms\"].skew())"
   ]
  },
  {
   "cell_type": "code",
   "execution_count": null,
   "metadata": {
    "execution": {
     "iopub.execute_input": "2025-04-24T20:34:21.426134Z",
     "iopub.status.busy": "2025-04-24T20:34:21.425865Z",
     "iopub.status.idle": "2025-04-24T20:34:21.448292Z",
     "shell.execute_reply": "2025-04-24T20:34:21.447320Z",
     "shell.execute_reply.started": "2025-04-24T20:34:21.426107Z"
    },
    "trusted": true
   },
   "outputs": [],
   "source": [
    "# High skew, use median for imputation\n",
    "train_data[\"livingRooms\"]=train_data[\"livingRooms\"].fillna(train_data[\"livingRooms\"].median())\n",
    "test_data[\"livingRooms\"]=test_data[\"livingRooms\"].fillna(test_data[\"livingRooms\"].median())"
   ]
  },
  {
   "cell_type": "code",
   "execution_count": null,
   "metadata": {
    "execution": {
     "iopub.execute_input": "2025-04-24T20:34:21.449754Z",
     "iopub.status.busy": "2025-04-24T20:34:21.449331Z",
     "iopub.status.idle": "2025-04-24T20:34:21.488427Z",
     "shell.execute_reply": "2025-04-24T20:34:21.487489Z",
     "shell.execute_reply.started": "2025-04-24T20:34:21.449727Z"
    },
    "trusted": true
   },
   "outputs": [],
   "source": [
    "# Fill energy rating with most common value\n",
    "most_common_rating = train_data[\"currentEnergyRating\"].mode()[0]\n",
    "train_data[\"currentEnergyRating\"]=train_data[\"currentEnergyRating\"].fillna(most_common_rating)\n",
    "test_data[\"currentEnergyRating\"]=test_data[\"currentEnergyRating\"].fillna(most_common_rating)"
   ]
  },
  {
   "cell_type": "code",
   "execution_count": null,
   "metadata": {
    "execution": {
     "iopub.execute_input": "2025-04-24T20:34:21.489643Z",
     "iopub.status.busy": "2025-04-24T20:34:21.489342Z",
     "iopub.status.idle": "2025-04-24T20:34:21.495497Z",
     "shell.execute_reply": "2025-04-24T20:34:21.494566Z",
     "shell.execute_reply.started": "2025-04-24T20:34:21.489623Z"
    },
    "trusted": true
   },
   "outputs": [],
   "source": [
    "# Fill test data floor area with median\n",
    "test_data[\"floorAreaSqM\"]=test_data[\"floorAreaSqM\"].fillna(test_data[\"floorAreaSqM\"].median())"
   ]
  },
  {
   "cell_type": "code",
   "execution_count": null,
   "metadata": {
    "execution": {
     "iopub.execute_input": "2025-04-24T20:34:21.496838Z",
     "iopub.status.busy": "2025-04-24T20:34:21.496552Z",
     "iopub.status.idle": "2025-04-24T20:34:21.522014Z",
     "shell.execute_reply": "2025-04-24T20:34:21.521053Z",
     "shell.execute_reply.started": "2025-04-24T20:34:21.496816Z"
    },
    "trusted": true
   },
   "outputs": [],
   "source": [
    "# Separate target variable\n",
    "target = train_data[\"price\"]\n",
    "\n",
    "# Log transform the target variable to handle skewed price distribution\n",
    "log_target = np.log1p(target)  # log1p handles zero values gracefully"
   ]
  },
  {
   "cell_type": "markdown",
   "metadata": {},
   "source": [
    "# Outlier Detection"
   ]
  },
  {
   "cell_type": "code",
   "execution_count": null,
   "metadata": {
    "execution": {
     "iopub.execute_input": "2025-04-24T20:34:21.523437Z",
     "iopub.status.busy": "2025-04-24T20:34:21.523123Z",
     "iopub.status.idle": "2025-04-24T20:34:21.541561Z",
     "shell.execute_reply": "2025-04-24T20:34:21.540455Z",
     "shell.execute_reply.started": "2025-04-24T20:34:21.523405Z"
    },
    "trusted": true
   },
   "outputs": [],
   "source": [
    "# Function to identify outliers using IQR method\n",
    "def find_outliers(df):\n",
    "    q1=df.quantile(0.25)\n",
    "    q3=df.quantile(0.75)\n",
    "    IQR=q3-q1\n",
    "    outliers=df[((df<(q1-1.5*IQR))|(df>(q3+1.5*IQR)))]\n",
    "    return outliers"
   ]
  },
  {
   "cell_type": "code",
   "execution_count": null,
   "metadata": {
    "execution": {
     "iopub.execute_input": "2025-04-24T20:34:21.543101Z",
     "iopub.status.busy": "2025-04-24T20:34:21.542748Z",
     "iopub.status.idle": "2025-04-24T20:34:21.683546Z",
     "shell.execute_reply": "2025-04-24T20:34:21.682667Z",
     "shell.execute_reply.started": "2025-04-24T20:34:21.543078Z"
    },
    "trusted": true
   },
   "outputs": [
    {
     "name": "stdout",
     "output_type": "stream",
     "text": [
      "Outlier counts by column:\n",
      "ID                  0\n",
      "latitude            0\n",
      "longitude        2159\n",
      "bathrooms        3551\n",
      "bedrooms        14513\n",
      "floorAreaSqM    14135\n",
      "livingRooms     53751\n",
      "sale_month          0\n",
      "sale_year           0\n",
      "price           20016\n",
      "dtype: int64\n"
     ]
    }
   ],
   "source": [
    "# Examine numeric columns for outliers\n",
    "numeric_data = train_data.select_dtypes(include=['float64', 'int64'])\n",
    "outlier_counts = find_outliers(numeric_data).notna().sum()\n",
    "print(\"Outlier counts by column:\")\n",
    "print(outlier_counts)"
   ]
  },
  {
   "cell_type": "markdown",
   "metadata": {},
   "source": [
    "# Feature Engineering"
   ]
  },
  {
   "cell_type": "code",
   "execution_count": null,
   "metadata": {
    "execution": {
     "iopub.execute_input": "2025-04-24T20:34:21.684790Z",
     "iopub.status.busy": "2025-04-24T20:34:21.684468Z",
     "iopub.status.idle": "2025-04-24T20:34:21.901252Z",
     "shell.execute_reply": "2025-04-24T20:34:21.900201Z",
     "shell.execute_reply.started": "2025-04-24T20:34:21.684768Z"
    },
    "trusted": true
   },
   "outputs": [],
   "source": [
    "# Create dummy variables for categorical features\n",
    "categories = ['outcode', 'tenure', 'propertyType', 'currentEnergyRating']\n",
    "combined = pd.get_dummies(pd.concat([train_data.drop('price', axis=1), test_data], axis=0), columns=categories, drop_first=True)\n",
    "\n",
    "# Split back into train and test\n",
    "train_data_encoded = combined.iloc[:len(train_data)]     \n",
    "test_data_encoded = combined.iloc[len(train_data):]  "
   ]
  },
  {
   "cell_type": "code",
   "execution_count": null,
   "metadata": {
    "execution": {
     "iopub.execute_input": "2025-04-24T20:34:21.902499Z",
     "iopub.status.busy": "2025-04-24T20:34:21.902201Z",
     "iopub.status.idle": "2025-04-24T20:34:21.918609Z",
     "shell.execute_reply": "2025-04-24T20:34:21.917801Z",
     "shell.execute_reply.started": "2025-04-24T20:34:21.902476Z"
    },
    "trusted": true
   },
   "outputs": [
    {
     "name": "stderr",
     "output_type": "stream",
     "text": [
      "/tmp/ipykernel_31/3786280590.py:3: SettingWithCopyWarning: \n",
      "A value is trying to be set on a copy of a slice from a DataFrame.\n",
      "Try using .loc[row_indexer,col_indexer] = value instead\n",
      "\n",
      "See the caveats in the documentation: https://pandas.pydata.org/pandas-docs/stable/user_guide/indexing.html#returning-a-view-versus-a-copy\n",
      "  train_data_encoded['bed_bath_ratio'] = train_data_encoded['bedrooms'] / (train_data_encoded['bathrooms'] + 0.01)  # Add small value to avoid division by zero\n",
      "/tmp/ipykernel_31/3786280590.py:4: SettingWithCopyWarning: \n",
      "A value is trying to be set on a copy of a slice from a DataFrame.\n",
      "Try using .loc[row_indexer,col_indexer] = value instead\n",
      "\n",
      "See the caveats in the documentation: https://pandas.pydata.org/pandas-docs/stable/user_guide/indexing.html#returning-a-view-versus-a-copy\n",
      "  test_data_encoded['bed_bath_ratio'] = test_data_encoded['bedrooms'] / (test_data_encoded['bathrooms'] + 0.01)\n",
      "/tmp/ipykernel_31/3786280590.py:7: SettingWithCopyWarning: \n",
      "A value is trying to be set on a copy of a slice from a DataFrame.\n",
      "Try using .loc[row_indexer,col_indexer] = value instead\n",
      "\n",
      "See the caveats in the documentation: https://pandas.pydata.org/pandas-docs/stable/user_guide/indexing.html#returning-a-view-versus-a-copy\n",
      "  train_data_encoded['area_per_bedroom'] = train_data_encoded['floorAreaSqM'] / (train_data_encoded['bedrooms'] + 0.01)\n",
      "/tmp/ipykernel_31/3786280590.py:8: SettingWithCopyWarning: \n",
      "A value is trying to be set on a copy of a slice from a DataFrame.\n",
      "Try using .loc[row_indexer,col_indexer] = value instead\n",
      "\n",
      "See the caveats in the documentation: https://pandas.pydata.org/pandas-docs/stable/user_guide/indexing.html#returning-a-view-versus-a-copy\n",
      "  test_data_encoded['area_per_bedroom'] = test_data_encoded['floorAreaSqM'] / (test_data_encoded['bedrooms'] + 0.01)\n",
      "/tmp/ipykernel_31/3786280590.py:11: SettingWithCopyWarning: \n",
      "A value is trying to be set on a copy of a slice from a DataFrame.\n",
      "Try using .loc[row_indexer,col_indexer] = value instead\n",
      "\n",
      "See the caveats in the documentation: https://pandas.pydata.org/pandas-docs/stable/user_guide/indexing.html#returning-a-view-versus-a-copy\n",
      "  train_data_encoded['property_age'] = 2024 - train_data_encoded['sale_year']\n",
      "/tmp/ipykernel_31/3786280590.py:12: SettingWithCopyWarning: \n",
      "A value is trying to be set on a copy of a slice from a DataFrame.\n",
      "Try using .loc[row_indexer,col_indexer] = value instead\n",
      "\n",
      "See the caveats in the documentation: https://pandas.pydata.org/pandas-docs/stable/user_guide/indexing.html#returning-a-view-versus-a-copy\n",
      "  test_data_encoded['property_age'] = 2024 - test_data_encoded['sale_year']\n"
     ]
    }
   ],
   "source": [
    "# Create additional features that might help prediction\n",
    "# Interaction features between bedrooms and bathrooms\n",
    "train_data_encoded['bed_bath_ratio'] = train_data_encoded['bedrooms'] / (train_data_encoded['bathrooms'] + 0.01)  # Add small value to avoid division by zero\n",
    "test_data_encoded['bed_bath_ratio'] = test_data_encoded['bedrooms'] / (test_data_encoded['bathrooms'] + 0.01)\n",
    "\n",
    "# Area per bedroom feature\n",
    "train_data_encoded['area_per_bedroom'] = train_data_encoded['floorAreaSqM'] / (train_data_encoded['bedrooms'] + 0.01)\n",
    "test_data_encoded['area_per_bedroom'] = test_data_encoded['floorAreaSqM'] / (test_data_encoded['bedrooms'] + 0.01)\n",
    "\n",
    "# Add property age approximation (2024 - sale_year)\n",
    "train_data_encoded['property_age'] = 2024 - train_data_encoded['sale_year']\n",
    "test_data_encoded['property_age'] = 2024 - test_data_encoded['sale_year']"
   ]
  },
  {
   "cell_type": "code",
   "execution_count": null,
   "metadata": {
    "execution": {
     "iopub.execute_input": "2025-04-24T20:34:21.920163Z",
     "iopub.status.busy": "2025-04-24T20:34:21.919760Z",
     "iopub.status.idle": "2025-04-24T20:34:22.400934Z",
     "shell.execute_reply": "2025-04-24T20:34:22.399960Z",
     "shell.execute_reply.started": "2025-04-24T20:34:21.920134Z"
    },
    "trusted": true
   },
   "outputs": [],
   "source": [
    "# Check for infinite values from division and replace with median\n",
    "train_data_encoded = train_data_encoded.replace([np.inf, -np.inf], np.nan)\n",
    "train_data_encoded = train_data_encoded.fillna(train_data_encoded.median())\n",
    "test_data_encoded = test_data_encoded.replace([np.inf, -np.inf], np.nan)\n",
    "test_data_encoded = test_data_encoded.fillna(train_data_encoded.median())"
   ]
  },
  {
   "cell_type": "code",
   "execution_count": null,
   "metadata": {
    "execution": {
     "iopub.execute_input": "2025-04-24T20:34:22.402111Z",
     "iopub.status.busy": "2025-04-24T20:34:22.401830Z",
     "iopub.status.idle": "2025-04-24T20:34:22.419588Z",
     "shell.execute_reply": "2025-04-24T20:34:22.418542Z",
     "shell.execute_reply.started": "2025-04-24T20:34:22.402090Z"
    },
    "trusted": true
   },
   "outputs": [
    {
     "data": {
      "text/html": [
       "<div>\n",
       "<style scoped>\n",
       "    .dataframe tbody tr th:only-of-type {\n",
       "        vertical-align: middle;\n",
       "    }\n",
       "\n",
       "    .dataframe tbody tr th {\n",
       "        vertical-align: top;\n",
       "    }\n",
       "\n",
       "    .dataframe thead th {\n",
       "        text-align: right;\n",
       "    }\n",
       "</style>\n",
       "<table border=\"1\" class=\"dataframe\">\n",
       "  <thead>\n",
       "    <tr style=\"text-align: right;\">\n",
       "      <th></th>\n",
       "      <th>ID</th>\n",
       "      <th>outcode</th>\n",
       "      <th>latitude</th>\n",
       "      <th>longitude</th>\n",
       "      <th>bathrooms</th>\n",
       "      <th>bedrooms</th>\n",
       "      <th>floorAreaSqM</th>\n",
       "      <th>livingRooms</th>\n",
       "      <th>tenure</th>\n",
       "      <th>propertyType</th>\n",
       "      <th>currentEnergyRating</th>\n",
       "      <th>sale_month</th>\n",
       "      <th>sale_year</th>\n",
       "    </tr>\n",
       "  </thead>\n",
       "  <tbody>\n",
       "    <tr>\n",
       "      <th>0</th>\n",
       "      <td>266325</td>\n",
       "      <td>E1</td>\n",
       "      <td>51.518783</td>\n",
       "      <td>-0.071003</td>\n",
       "      <td>1.0</td>\n",
       "      <td>2.000000</td>\n",
       "      <td>54.0</td>\n",
       "      <td>1.0</td>\n",
       "      <td>Leasehold</td>\n",
       "      <td>Flat/Maisonette</td>\n",
       "      <td>D</td>\n",
       "      <td>1</td>\n",
       "      <td>2024</td>\n",
       "    </tr>\n",
       "    <tr>\n",
       "      <th>1</th>\n",
       "      <td>266326</td>\n",
       "      <td>E1</td>\n",
       "      <td>51.511624</td>\n",
       "      <td>-0.068236</td>\n",
       "      <td>1.0</td>\n",
       "      <td>1.000000</td>\n",
       "      <td>48.0</td>\n",
       "      <td>1.0</td>\n",
       "      <td>Leasehold</td>\n",
       "      <td>Purpose Built Flat</td>\n",
       "      <td>D</td>\n",
       "      <td>1</td>\n",
       "      <td>2024</td>\n",
       "    </tr>\n",
       "    <tr>\n",
       "      <th>2</th>\n",
       "      <td>266327</td>\n",
       "      <td>E1</td>\n",
       "      <td>51.512737</td>\n",
       "      <td>-0.066502</td>\n",
       "      <td>1.0</td>\n",
       "      <td>2.523069</td>\n",
       "      <td>32.0</td>\n",
       "      <td>1.0</td>\n",
       "      <td>Leasehold</td>\n",
       "      <td>Flat/Maisonette</td>\n",
       "      <td>C</td>\n",
       "      <td>1</td>\n",
       "      <td>2024</td>\n",
       "    </tr>\n",
       "    <tr>\n",
       "      <th>3</th>\n",
       "      <td>266328</td>\n",
       "      <td>E1</td>\n",
       "      <td>51.516165</td>\n",
       "      <td>-0.057334</td>\n",
       "      <td>1.0</td>\n",
       "      <td>3.000000</td>\n",
       "      <td>85.0</td>\n",
       "      <td>1.0</td>\n",
       "      <td>Leasehold</td>\n",
       "      <td>Purpose Built Flat</td>\n",
       "      <td>D</td>\n",
       "      <td>1</td>\n",
       "      <td>2024</td>\n",
       "    </tr>\n",
       "    <tr>\n",
       "      <th>4</th>\n",
       "      <td>266329</td>\n",
       "      <td>E1</td>\n",
       "      <td>51.515115</td>\n",
       "      <td>-0.051008</td>\n",
       "      <td>1.0</td>\n",
       "      <td>2.000000</td>\n",
       "      <td>82.0</td>\n",
       "      <td>1.0</td>\n",
       "      <td>Leasehold</td>\n",
       "      <td>Flat/Maisonette</td>\n",
       "      <td>C</td>\n",
       "      <td>1</td>\n",
       "      <td>2024</td>\n",
       "    </tr>\n",
       "    <tr>\n",
       "      <th>...</th>\n",
       "      <td>...</td>\n",
       "      <td>...</td>\n",
       "      <td>...</td>\n",
       "      <td>...</td>\n",
       "      <td>...</td>\n",
       "      <td>...</td>\n",
       "      <td>...</td>\n",
       "      <td>...</td>\n",
       "      <td>...</td>\n",
       "      <td>...</td>\n",
       "      <td>...</td>\n",
       "      <td>...</td>\n",
       "      <td>...</td>\n",
       "    </tr>\n",
       "    <tr>\n",
       "      <th>95</th>\n",
       "      <td>266420</td>\n",
       "      <td>E13</td>\n",
       "      <td>51.518499</td>\n",
       "      <td>0.027866</td>\n",
       "      <td>1.0</td>\n",
       "      <td>2.000000</td>\n",
       "      <td>82.0</td>\n",
       "      <td>2.0</td>\n",
       "      <td>Freehold</td>\n",
       "      <td>Terrace Property</td>\n",
       "      <td>C</td>\n",
       "      <td>1</td>\n",
       "      <td>2024</td>\n",
       "    </tr>\n",
       "    <tr>\n",
       "      <th>96</th>\n",
       "      <td>266421</td>\n",
       "      <td>E13</td>\n",
       "      <td>51.522218</td>\n",
       "      <td>0.027080</td>\n",
       "      <td>3.0</td>\n",
       "      <td>6.000000</td>\n",
       "      <td>168.0</td>\n",
       "      <td>3.0</td>\n",
       "      <td>Freehold</td>\n",
       "      <td>End Terrace House</td>\n",
       "      <td>D</td>\n",
       "      <td>1</td>\n",
       "      <td>2024</td>\n",
       "    </tr>\n",
       "    <tr>\n",
       "      <th>97</th>\n",
       "      <td>266422</td>\n",
       "      <td>E14</td>\n",
       "      <td>51.508459</td>\n",
       "      <td>-0.032054</td>\n",
       "      <td>1.0</td>\n",
       "      <td>1.000000</td>\n",
       "      <td>90.0</td>\n",
       "      <td>1.0</td>\n",
       "      <td>Leasehold</td>\n",
       "      <td>Flat/Maisonette</td>\n",
       "      <td>B</td>\n",
       "      <td>1</td>\n",
       "      <td>2024</td>\n",
       "    </tr>\n",
       "    <tr>\n",
       "      <th>98</th>\n",
       "      <td>266423</td>\n",
       "      <td>E14</td>\n",
       "      <td>51.509401</td>\n",
       "      <td>-0.036769</td>\n",
       "      <td>2.0</td>\n",
       "      <td>2.000000</td>\n",
       "      <td>83.0</td>\n",
       "      <td>1.0</td>\n",
       "      <td>Leasehold</td>\n",
       "      <td>Purpose Built Flat</td>\n",
       "      <td>E</td>\n",
       "      <td>1</td>\n",
       "      <td>2024</td>\n",
       "    </tr>\n",
       "    <tr>\n",
       "      <th>99</th>\n",
       "      <td>266424</td>\n",
       "      <td>E14</td>\n",
       "      <td>51.498408</td>\n",
       "      <td>-0.021580</td>\n",
       "      <td>2.0</td>\n",
       "      <td>1.000000</td>\n",
       "      <td>51.0</td>\n",
       "      <td>1.0</td>\n",
       "      <td>Leasehold</td>\n",
       "      <td>Purpose Built Flat</td>\n",
       "      <td>C</td>\n",
       "      <td>1</td>\n",
       "      <td>2024</td>\n",
       "    </tr>\n",
       "  </tbody>\n",
       "</table>\n",
       "<p>100 rows × 13 columns</p>\n",
       "</div>"
      ],
      "text/plain": [
       "        ID outcode   latitude  longitude  bathrooms  bedrooms  floorAreaSqM  \\\n",
       "0   266325      E1  51.518783  -0.071003        1.0  2.000000          54.0   \n",
       "1   266326      E1  51.511624  -0.068236        1.0  1.000000          48.0   \n",
       "2   266327      E1  51.512737  -0.066502        1.0  2.523069          32.0   \n",
       "3   266328      E1  51.516165  -0.057334        1.0  3.000000          85.0   \n",
       "4   266329      E1  51.515115  -0.051008        1.0  2.000000          82.0   \n",
       "..     ...     ...        ...        ...        ...       ...           ...   \n",
       "95  266420     E13  51.518499   0.027866        1.0  2.000000          82.0   \n",
       "96  266421     E13  51.522218   0.027080        3.0  6.000000         168.0   \n",
       "97  266422     E14  51.508459  -0.032054        1.0  1.000000          90.0   \n",
       "98  266423     E14  51.509401  -0.036769        2.0  2.000000          83.0   \n",
       "99  266424     E14  51.498408  -0.021580        2.0  1.000000          51.0   \n",
       "\n",
       "    livingRooms     tenure        propertyType currentEnergyRating  \\\n",
       "0           1.0  Leasehold     Flat/Maisonette                   D   \n",
       "1           1.0  Leasehold  Purpose Built Flat                   D   \n",
       "2           1.0  Leasehold     Flat/Maisonette                   C   \n",
       "3           1.0  Leasehold  Purpose Built Flat                   D   \n",
       "4           1.0  Leasehold     Flat/Maisonette                   C   \n",
       "..          ...        ...                 ...                 ...   \n",
       "95          2.0   Freehold    Terrace Property                   C   \n",
       "96          3.0   Freehold   End Terrace House                   D   \n",
       "97          1.0  Leasehold     Flat/Maisonette                   B   \n",
       "98          1.0  Leasehold  Purpose Built Flat                   E   \n",
       "99          1.0  Leasehold  Purpose Built Flat                   C   \n",
       "\n",
       "    sale_month  sale_year  \n",
       "0            1       2024  \n",
       "1            1       2024  \n",
       "2            1       2024  \n",
       "3            1       2024  \n",
       "4            1       2024  \n",
       "..         ...        ...  \n",
       "95           1       2024  \n",
       "96           1       2024  \n",
       "97           1       2024  \n",
       "98           1       2024  \n",
       "99           1       2024  \n",
       "\n",
       "[100 rows x 13 columns]"
      ]
     },
     "execution_count": 164,
     "metadata": {},
     "output_type": "execute_result"
    }
   ],
   "source": [
    "test_data.head(100)"
   ]
  },
  {
   "cell_type": "markdown",
   "metadata": {},
   "source": [
    "# Data Splitting"
   ]
  },
  {
   "cell_type": "code",
   "execution_count": null,
   "metadata": {
    "execution": {
     "iopub.execute_input": "2025-04-24T20:34:22.420997Z",
     "iopub.status.busy": "2025-04-24T20:34:22.420686Z",
     "iopub.status.idle": "2025-04-24T20:34:22.791219Z",
     "shell.execute_reply": "2025-04-24T20:34:22.790350Z",
     "shell.execute_reply.started": "2025-04-24T20:34:22.420963Z"
    },
    "trusted": true
   },
   "outputs": [],
   "source": [
    "# Split the training data into training and validation sets\n",
    "from sklearn.model_selection import train_test_split\n",
    "X_train, X_val, y_train, y_val = train_test_split(train_data_encoded, target, test_size=0.2, random_state=42)"
   ]
  },
  {
   "cell_type": "code",
   "execution_count": null,
   "metadata": {
    "execution": {
     "iopub.execute_input": "2025-04-24T20:34:22.792934Z",
     "iopub.status.busy": "2025-04-24T20:34:22.792621Z",
     "iopub.status.idle": "2025-04-24T20:34:22.799095Z",
     "shell.execute_reply": "2025-04-24T20:34:22.798348Z",
     "shell.execute_reply.started": "2025-04-24T20:34:22.792902Z"
    },
    "trusted": true
   },
   "outputs": [],
   "source": [
    "# Log transform the target for training\n",
    "y_train_log = np.log1p(y_train)\n",
    "y_val_log = np.log1p(y_val)"
   ]
  },
  {
   "cell_type": "markdown",
   "metadata": {},
   "source": [
    "# Feature Scaling"
   ]
  },
  {
   "cell_type": "code",
   "execution_count": null,
   "metadata": {
    "execution": {
     "iopub.execute_input": "2025-04-24T20:34:22.804067Z",
     "iopub.status.busy": "2025-04-24T20:34:22.803761Z",
     "iopub.status.idle": "2025-04-24T20:34:25.781487Z",
     "shell.execute_reply": "2025-04-24T20:34:25.780350Z",
     "shell.execute_reply.started": "2025-04-24T20:34:22.804044Z"
    },
    "trusted": true
   },
   "outputs": [],
   "source": [
    "# Scale the features for better model performance\n",
    "from sklearn.preprocessing import RobustScaler\n",
    "scaler = RobustScaler()\n",
    "\n",
    "# Fit scaler on training data only to avoid data leakage\n",
    "X_train_scaled = scaler.fit_transform(X_train)\n",
    "X_val_scaled = scaler.transform(X_val)\n",
    "X_test_scaled = scaler.transform(test_data_encoded)\n",
    "\n",
    "# Convert scaled arrays back to DataFrames \n",
    "X_train_scaled = pd.DataFrame(X_train_scaled, columns=X_train.columns, index=X_train.index)\n",
    "X_val_scaled = pd.DataFrame(X_val_scaled, columns=X_val.columns, index=X_val.index)\n",
    "X_test_scaled = pd.DataFrame(X_test_scaled, columns=test_data_encoded.columns, index=test_data_encoded.index)\n"
   ]
  },
  {
   "cell_type": "markdown",
   "metadata": {},
   "source": [
    "# Model Training"
   ]
  },
  {
   "cell_type": "code",
   "execution_count": null,
   "metadata": {
    "execution": {
     "iopub.execute_input": "2025-04-24T20:34:25.782744Z",
     "iopub.status.busy": "2025-04-24T20:34:25.782479Z",
     "iopub.status.idle": "2025-04-24T20:34:30.455891Z",
     "shell.execute_reply": "2025-04-24T20:34:30.454840Z",
     "shell.execute_reply.started": "2025-04-24T20:34:25.782723Z"
    },
    "trusted": true
   },
   "outputs": [
    {
     "name": "stdout",
     "output_type": "stream",
     "text": [
      "Number of features used: 205\n",
      "Intercept: 13.182378428950315\n"
     ]
    }
   ],
   "source": [
    "from sklearn.linear_model import LinearRegression\n",
    "from sklearn.metrics import mean_squared_error, r2_score \n",
    "\n",
    "# Train model on log-transformed target\n",
    "model = LinearRegression()\n",
    "model.fit(X_train_scaled, y_train_log)\n",
    "\n",
    "# Print model coefficients\n",
    "print(\"Number of features used:\", len(model.coef_))\n",
    "print(\"Intercept:\", model.intercept_)"
   ]
  },
  {
   "cell_type": "markdown",
   "metadata": {},
   "source": [
    "# Model Evaluation"
   ]
  },
  {
   "cell_type": "code",
   "execution_count": null,
   "metadata": {
    "execution": {
     "iopub.execute_input": "2025-04-24T20:34:30.456824Z",
     "iopub.status.busy": "2025-04-24T20:34:30.456551Z",
     "iopub.status.idle": "2025-04-24T20:34:30.501612Z",
     "shell.execute_reply": "2025-04-24T20:34:30.498820Z",
     "shell.execute_reply.started": "2025-04-24T20:34:30.456801Z"
    },
    "trusted": true
   },
   "outputs": [],
   "source": [
    "# Make predictions on validation set\n",
    "val_predictions_log = model.predict(X_val_scaled)\n",
    "val_predictions = np.expm1(val_predictions_log)  # Convert back from log space"
   ]
  },
  {
   "cell_type": "code",
   "execution_count": null,
   "metadata": {
    "execution": {
     "iopub.execute_input": "2025-04-24T20:34:30.502540Z",
     "iopub.status.busy": "2025-04-24T20:34:30.502268Z",
     "iopub.status.idle": "2025-04-24T20:34:30.519563Z",
     "shell.execute_reply": "2025-04-24T20:34:30.518529Z",
     "shell.execute_reply.started": "2025-04-24T20:34:30.502518Z"
    },
    "trusted": true
   },
   "outputs": [
    {
     "name": "stdout",
     "output_type": "stream",
     "text": [
      "Validation MSE: £268612349327.51\n",
      "Validation R²: 0.6380\n"
     ]
    }
   ],
   "source": [
    "# Calculate validation metrics\n",
    "mse = mean_squared_error(y_val, val_predictions)\n",
    "r2 = r2_score(y_val, val_predictions)\n",
    "\n",
    "print(f\"Validation MSE: £{mse:.2f}\")\n",
    "print(f\"Validation R²: {r2:.4f}\")"
   ]
  },
  {
   "cell_type": "code",
   "execution_count": null,
   "metadata": {
    "execution": {
     "iopub.execute_input": "2025-04-24T20:34:30.521447Z",
     "iopub.status.busy": "2025-04-24T20:34:30.520721Z",
     "iopub.status.idle": "2025-04-24T20:34:30.897496Z",
     "shell.execute_reply": "2025-04-24T20:34:30.896541Z",
     "shell.execute_reply.started": "2025-04-24T20:34:30.521422Z"
    },
    "trusted": true
   },
   "outputs": [
    {
     "data": {
      "image/png": "[encoded data removed]",
      "text/plain": [
       "<Figure size 1000x600 with 1 Axes>"
      ]
     },
     "metadata": {},
     "output_type": "display_data"
    }
   ],
   "source": [
    "# Visualize predicted vs actual values\n",
    "import matplotlib.pyplot as plt\n",
    "\n",
    "plt.figure(figsize=(10, 6))\n",
    "plt.scatter(y_val, val_predictions, alpha=0.5)\n",
    "plt.plot([min(y_val), max(y_val)], [min(y_val), max(y_val)], 'r--')\n",
    "plt.xlabel('Actual Price')\n",
    "plt.ylabel('Predicted Price')\n",
    "plt.title('Actual vs Predicted House Prices')\n",
    "plt.show()"
   ]
  },
  {
   "cell_type": "code",
   "execution_count": null,
   "metadata": {
    "execution": {
     "iopub.execute_input": "2025-04-24T20:34:30.899026Z",
     "iopub.status.busy": "2025-04-24T20:34:30.898686Z",
     "iopub.status.idle": "2025-04-24T20:34:36.831782Z",
     "shell.execute_reply": "2025-04-24T20:34:36.828460Z",
     "shell.execute_reply.started": "2025-04-24T20:34:30.898996Z"
    },
    "trusted": true
   },
   "outputs": [],
   "source": [
    "# Train on the full training dataset for final predictions\n",
    "full_model = LinearRegression()\n",
    "full_model.fit(train_data_encoded, log_target)  # Train on log-transformed target\n",
    "\n",
    "# Make predictions on test set\n",
    "test_predictions_log = full_model.predict(test_data_encoded)\n",
    "test_predictions = np.expm1(test_predictions_log)  # Convert back from log space"
   ]
  },
  {
   "cell_type": "code",
   "execution_count": null,
   "metadata": {
    "execution": {
     "iopub.execute_input": "2025-04-24T20:34:36.835679Z",
     "iopub.status.busy": "2025-04-24T20:34:36.832667Z",
     "iopub.status.idle": "2025-04-24T20:34:36.886455Z",
     "shell.execute_reply": "2025-04-24T20:34:36.885443Z",
     "shell.execute_reply.started": "2025-04-24T20:34:36.835644Z"
    },
    "trusted": true
   },
   "outputs": [],
   "source": [
    "# Create submission file\n",
    "output=pd.DataFrame({\"ID\":test_data_encoded.ID, \"price\":test_predictions})\n",
    "output.to_csv('submission.csv', index=False)"
   ]
  }
 ],
 "metadata": {
  "kaggle": {
   "accelerator": "none",
   "dataSources": [
    {
     "databundleVersionId": 10105526,
     "sourceId": 88312,
     "sourceType": "competition"
    }
   ],
   "dockerImageVersionId": 31012,
   "isGpuEnabled": false,
   "isInternetEnabled": false,
   "language": "python",
   "sourceType": "notebook"
  },
  "kernelspec": {
   "display_name": "Python 3",
   "language": "python",
   "name": "python3"
  },
  "language_info": {
   "codemirror_mode": {
    "name": "ipython",
    "version": 3
   },
   "file_extension": ".py",
   "mimetype": "text/x-python",
   "name": "python",
   "nbconvert_exporter": "python",
   "pygments_lexer": "ipython3",
   "version": "3.11.11"
  }
 },
 "nbformat": 4,
 "nbformat_minor": 4
}
